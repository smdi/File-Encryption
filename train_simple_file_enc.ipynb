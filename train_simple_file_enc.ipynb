{
 "cells": [
  {
   "cell_type": "code",
   "execution_count": null,
   "metadata": {},
   "outputs": [],
   "source": [
    "!pip install tensorflow"
   ]
  },
  {
   "cell_type": "code",
   "execution_count": 3,
   "metadata": {},
   "outputs": [],
   "source": [
    "\n",
    "from tensorflow import keras\n",
    "from tensorflow.keras import layers, models, callbacks\n",
    "\n",
    "\n",
    "\n",
    "from sklearn.model_selection import train_test_split\n",
    "import pandas as pd\n",
    "from sklearn.feature_extraction.text import CountVectorizer\n",
    "from sklearn.feature_extraction.text import TfidfTransformer\n",
    "from sklearn.metrics import mean_absolute_error\n",
    "\n",
    "from tensorflow.keras.callbacks import EarlyStopping\n"
   ]
  },
  {
   "cell_type": "code",
   "execution_count": 4,
   "metadata": {},
   "outputs": [],
   "source": [
    "\n",
    "def string_number(x):\n",
    "    x = x.lower()\n",
    "    new = \"\"\n",
    "    for each in x :\n",
    "        new = new + str( ord(each) )\n",
    "    return new\n",
    "\n",
    "\n",
    "def char_number(x):    \n",
    "    return str( ord(x)  )\n",
    "\n",
    "\n",
    "\n",
    "def getConvertedFormatofText(x):\n",
    "\n",
    "    count_vect = CountVectorizer()\n",
    "    X_train_counts = count_vect.fit_transform(x.values.astype('U'))\n",
    "    tfidf_transformer = TfidfTransformer()\n",
    "    X_train_tfidf = tfidf_transformer.fit_transform(X_train_counts)\n",
    "\n",
    "    return tfidf_transformer\n",
    "\n",
    "\n",
    "def getValidationData(xtest, ytest):\n",
    "    xtest, xvalid, ytest, yvalid = train_test_split(xtest, ytest, test_size=0.50, random_state=42)\n",
    "    return xtest, xvalid, ytest, yvalid\n",
    "\n",
    "\n",
    "def getWordSplitData():\n",
    "    data = pd.read_csv(\"word_split_encoded.tsv\", sep=\"\\t\")\n",
    "    data = data.iloc[0:1000000,]\n",
    "    data.columns = [\"words\", \"output\", \"wordlen\"]\n",
    "    #     data = data.dropna()    \n",
    "    x = data.words.map(char_number)\n",
    "    x = x.values.astype('int32')\n",
    "    y = data.output\n",
    "    y = y.values.astype('int64')\n",
    "    return y, x\n",
    "\n",
    "\n",
    "def getWordSplitOHEData():\n",
    "    data = pd.read_csv(\"word_splits_ohe.tsv\", sep=\"\\t\")\n",
    "#     data = data.dropna()\n",
    "    l = [x for x in range(2, data.shape[1])]\n",
    "    x = data.iloc[:,l]\n",
    "    x = x.values.astype('int16')\n",
    "    y = data.output\n",
    "    y = y.values.astype('int64')\n",
    "    return x, y\n",
    "\n",
    "\n",
    "def getTrainTestData():        \n",
    "    x, y = getWordSplitData()\n",
    "    xtrain, xtest, ytrain, ytest = train_test_split(x, y, test_size = 0.40, random_state = 42)\n",
    "    xtest, xvalid, ytest, yvalid = getValidationData(xtest, ytest)\n",
    "    return  xtrain, xtest, xvalid, ytrain, ytest, yvalid\n",
    "\n",
    "\n",
    "\n",
    "\n"
   ]
  },
  {
   "cell_type": "code",
   "execution_count": 5,
   "metadata": {},
   "outputs": [],
   "source": [
    "\n",
    "\n",
    "def getTheNetwork(num=6):\n",
    "    i = 0\n",
    "    list_dense = []    \n",
    "    list_dense.append(layers.Dense(units= 100 * (num) , activation='relu', input_dim=1))\n",
    "#     list_dense.append(layers.Dropout(0.3))\n",
    "    for x in range(2,num):\n",
    "        i = i+1\n",
    "        list_dense.append(layers.Dense(units= 100 * ((num)-i), activation='relu' ))        \n",
    "#         list_dense.append(layers.Dropout(0.3))\n",
    "        \n",
    "    \n",
    "    list_dense.append(layers.Dense(units= 100, activation='relu' ))\n",
    "    list_dense.append(layers.Dense(units=1))\n",
    "\n",
    "    return  list_dense\n"
   ]
  },
  {
   "cell_type": "code",
   "execution_count": 14,
   "metadata": {},
   "outputs": [],
   "source": [
    "model = keras.Sequential(getTheNetwork(6))"
   ]
  },
  {
   "cell_type": "code",
   "execution_count": 15,
   "metadata": {},
   "outputs": [
    {
     "name": "stdout",
     "output_type": "stream",
     "text": [
      "Model: \"sequential_1\"\n",
      "_________________________________________________________________\n",
      "Layer (type)                 Output Shape              Param #   \n",
      "=================================================================\n",
      "dense_7 (Dense)              (None, 600)               1200      \n",
      "_________________________________________________________________\n",
      "dense_8 (Dense)              (None, 500)               300500    \n",
      "_________________________________________________________________\n",
      "dense_9 (Dense)              (None, 400)               200400    \n",
      "_________________________________________________________________\n",
      "dense_10 (Dense)             (None, 300)               120300    \n",
      "_________________________________________________________________\n",
      "dense_11 (Dense)             (None, 200)               60200     \n",
      "_________________________________________________________________\n",
      "dense_12 (Dense)             (None, 100)               20100     \n",
      "_________________________________________________________________\n",
      "dense_13 (Dense)             (None, 1)                 101       \n",
      "=================================================================\n",
      "Total params: 702,801\n",
      "Trainable params: 702,801\n",
      "Non-trainable params: 0\n",
      "_________________________________________________________________\n"
     ]
    }
   ],
   "source": [
    "\n",
    "\n",
    "model.compile(optimizer='adam', loss = 'huber', metrics=['mse', 'mae', 'mape'])\n",
    "\n",
    "\n",
    "early_stopping = EarlyStopping(\n",
    "    min_delta=0.01,\n",
    "    patience=40,\n",
    "    restore_best_weights=True\n",
    ")\n",
    "\n",
    "model.summary()"
   ]
  },
  {
   "cell_type": "code",
   "execution_count": 16,
   "metadata": {},
   "outputs": [],
   "source": [
    "xtrain, xtest, xvalid, ytrain, ytest, yvalid = getTrainTestData()\n",
    "\n"
   ]
  },
  {
   "cell_type": "code",
   "execution_count": 23,
   "metadata": {},
   "outputs": [
    {
     "data": {
      "text/plain": [
       "(array([1011100000000001, 1010105000000001, 1000000011700001,\n",
       "        1000001010800001, 1000011500000001]),\n",
       " array([102, 110, 106, 114, 104], dtype=int32))"
      ]
     },
     "execution_count": 23,
     "metadata": {},
     "output_type": "execute_result"
    }
   ],
   "source": [
    "xtrain[0:5], ytrain[0:5]"
   ]
  },
  {
   "cell_type": "code",
   "execution_count": 17,
   "metadata": {},
   "outputs": [],
   "source": [
    "export_path_keras = \"simple_file_hacker_100.h5\"\n",
    "save_checkpoint = keras.callbacks.ModelCheckpoint(\n",
    "    export_path_keras, monitor='loss', verbose=1, save_best_only=True,\n",
    "    save_weights_only=False, mode='min', save_freq='epoch'\n",
    ")"
   ]
  },
  {
   "cell_type": "code",
   "execution_count": null,
   "metadata": {},
   "outputs": [],
   "source": [
    "#char counts train data\n",
    "\n",
    "history = model.fit(\n",
    "    xtrain, ytrain,\n",
    "    validation_data=(xvalid, yvalid),\n",
    "    batch_size=100,\n",
    "    epochs=100,\n",
    "    callbacks=[early_stopping, save_checkpoint],\n",
    "    verbose=1\n",
    ")\n",
    "\n",
    "# export_path_keras = \"simple_file_hacker.h5\"\n",
    "# model.save(export_path_keras)\n"
   ]
  },
  {
   "cell_type": "code",
   "execution_count": null,
   "metadata": {},
   "outputs": [],
   "source": [
    "#ohe data trained\n",
    "\n",
    "history = model.fit(\n",
    "    xtrain, ytrain,\n",
    "    validation_data=(xvalid, yvalid),\n",
    "    batch_size=50,\n",
    "    epochs=10,\n",
    "    callbacks=[early_stopping],\n",
    "    verbose=1\n",
    ")\n",
    "\n",
    "export_path_keras = \"simple_file_hacker_ohe.h5\"\n",
    "model.save(export_path_keras)\n"
   ]
  },
  {
   "cell_type": "code",
   "execution_count": 4,
   "metadata": {},
   "outputs": [
    {
     "name": "stdout",
     "output_type": "stream",
     "text": [
      "Model: \"sequential\"\n",
      "_________________________________________________________________\n",
      "Layer (type)                 Output Shape              Param #   \n",
      "=================================================================\n",
      "dense (Dense)                (None, 1000)              2000      \n",
      "_________________________________________________________________\n",
      "dense_1 (Dense)              (None, 900)               900900    \n",
      "_________________________________________________________________\n",
      "dense_2 (Dense)              (None, 800)               720800    \n",
      "_________________________________________________________________\n",
      "dense_3 (Dense)              (None, 700)               560700    \n",
      "_________________________________________________________________\n",
      "dense_4 (Dense)              (None, 600)               420600    \n",
      "_________________________________________________________________\n",
      "dense_5 (Dense)              (None, 500)               300500    \n",
      "_________________________________________________________________\n",
      "dense_6 (Dense)              (None, 400)               200400    \n",
      "_________________________________________________________________\n",
      "dense_7 (Dense)              (None, 300)               120300    \n",
      "_________________________________________________________________\n",
      "dense_8 (Dense)              (None, 200)               60200     \n",
      "_________________________________________________________________\n",
      "dense_9 (Dense)              (None, 100)               20100     \n",
      "_________________________________________________________________\n",
      "dense_10 (Dense)             (None, 1)                 101       \n",
      "=================================================================\n",
      "Total params: 3,306,601\n",
      "Trainable params: 3,306,601\n",
      "Non-trainable params: 0\n",
      "_________________________________________________________________\n"
     ]
    }
   ],
   "source": [
    "model = models.load_model('simple_file_hacker.h5')\n",
    "model.summary()"
   ]
  },
  {
   "cell_type": "code",
   "execution_count": null,
   "metadata": {},
   "outputs": [],
   "source": [
    "#char counts\n",
    "history = model.fit(\n",
    "    xtrain, ytrain,\n",
    "    validation_data=(xvalid, yvalid),\n",
    "    batch_size=100,\n",
    "    epochs=50,\n",
    "    callbacks=[early_stopping],\n",
    "    verbose=1\n",
    ")\n",
    "\n",
    "export_path_keras = \"simple_file_hacker.h5\"\n",
    "model.save(export_path_keras)"
   ]
  },
  {
   "cell_type": "code",
   "execution_count": 9,
   "metadata": {},
   "outputs": [
    {
     "data": {
      "text/plain": [
       "8.57765388379088"
      ]
     },
     "execution_count": 9,
     "metadata": {},
     "output_type": "execute_result"
    }
   ],
   "source": [
    "ypred = model.predict(xtest)\n",
    "\n",
    "mean_absolute_error(ytest, ypred)"
   ]
  },
  {
   "cell_type": "code",
   "execution_count": 10,
   "metadata": {},
   "outputs": [
    {
     "data": {
      "text/plain": [
       "(array([1101070000000001, 1000000000011701, 1001010500000001,\n",
       "        1110000000020001, 1000001000170001]),\n",
       " array([[106.939255],\n",
       "        [106.939255],\n",
       "        [106.939255],\n",
       "        [106.939255],\n",
       "        [106.939255]], dtype=float32),\n",
       " array([109, 108, 111,  55, 101], dtype=int32))"
      ]
     },
     "execution_count": 10,
     "metadata": {},
     "output_type": "execute_result"
    }
   ],
   "source": [
    "xtest[0:5], ypred[0:5], ytest[0:5]"
   ]
  },
  {
   "cell_type": "code",
   "execution_count": null,
   "metadata": {},
   "outputs": [],
   "source": [
    "model.load_weights('simple_file_hacker_ohe.h5')"
   ]
  },
  {
   "cell_type": "code",
   "execution_count": 7,
   "metadata": {},
   "outputs": [],
   "source": [
    "model.load_weights('simple_file_hacker_ohe_v2_01.h5')"
   ]
  },
  {
   "cell_type": "code",
   "execution_count": 8,
   "metadata": {},
   "outputs": [
    {
     "name": "stdout",
     "output_type": "stream",
     "text": [
      "Model: \"sequential\"\n",
      "_________________________________________________________________\n",
      "Layer (type)                 Output Shape              Param #   \n",
      "=================================================================\n",
      "dense (Dense)                (None, 100)               3700      \n",
      "_________________________________________________________________\n",
      "dense_1 (Dense)              (None, 300)               30300     \n",
      "_________________________________________________________________\n",
      "dense_2 (Dense)              (None, 400)               120400    \n",
      "_________________________________________________________________\n",
      "dense_3 (Dense)              (None, 500)               200500    \n",
      "_________________________________________________________________\n",
      "dense_4 (Dense)              (None, 600)               300600    \n",
      "_________________________________________________________________\n",
      "dense_5 (Dense)              (None, 700)               420700    \n",
      "_________________________________________________________________\n",
      "dense_6 (Dense)              (None, 1)                 701       \n",
      "=================================================================\n",
      "Total params: 1,076,901\n",
      "Trainable params: 1,076,901\n",
      "Non-trainable params: 0\n",
      "_________________________________________________________________\n"
     ]
    }
   ],
   "source": [
    "model.summary()"
   ]
  },
  {
   "cell_type": "code",
   "execution_count": null,
   "metadata": {},
   "outputs": [],
   "source": [
    "#char counts\n",
    "history = model.fit(\n",
    "    xtrain, ytrain,\n",
    "    validation_data=(xvalid, yvalid),\n",
    "    batch_size=100,\n",
    "    epochs=10,\n",
    "    callbacks=[early_stopping],\n",
    "    verbose=1\n",
    ")\n",
    "\n",
    "export_path_keras = \"simple_file_hacker.h5\"\n",
    "model.save(export_path_keras)"
   ]
  },
  {
   "cell_type": "code",
   "execution_count": null,
   "metadata": {},
   "outputs": [],
   "source": [
    "#ohe\n",
    "history = model.fit(\n",
    "    xtrain, ytrain,\n",
    "    validation_data=(xvalid, yvalid),\n",
    "    batch_size=50,\n",
    "    epochs=10,\n",
    "    callbacks=[early_stopping],\n",
    "    verbose=1\n",
    ")\n",
    "\n",
    "export_path_keras = \"simple_file_hacker_ohe_v2_01.h5\"\n",
    "model.save(export_path_keras)"
   ]
  },
  {
   "cell_type": "code",
   "execution_count": 9,
   "metadata": {},
   "outputs": [],
   "source": [
    "\n",
    "ypred = model.predict(xtest)"
   ]
  },
  {
   "cell_type": "code",
   "execution_count": 15,
   "metadata": {},
   "outputs": [
    {
     "data": {
      "text/plain": [
       "array([[106.773796]], dtype=float32)"
      ]
     },
     "execution_count": 15,
     "metadata": {},
     "output_type": "execute_result"
    }
   ],
   "source": [
    "ypred = model.predict([[1000000011200001]])\n",
    "\n",
    "ypred"
   ]
  },
  {
   "cell_type": "code",
   "execution_count": 19,
   "metadata": {},
   "outputs": [],
   "source": [
    "ypred = model.predict([[1,0,0,0,0,0,0,0,0,0,0,0,0,0,0,0,0,0,0,0,0,0,0,0,0,0,0,0,0,0,0,0,0,0,0,0]])\n",
    "\n",
    "# pd.get_dummies(\"a\", prefix='char')"
   ]
  },
  {
   "cell_type": "code",
   "execution_count": 20,
   "metadata": {},
   "outputs": [
    {
     "data": {
      "text/plain": [
       "0    [[1000466000000000.0]]\n",
       "dtype: object"
      ]
     },
     "execution_count": 20,
     "metadata": {},
     "output_type": "execute_result"
    }
   ],
   "source": [
    "# ypred.values.astype('int64')\n",
    "ypred = pd.Series([ypred])\n",
    "ypred.values.astype('int64')\n",
    "\n",
    "ypred"
   ]
  },
  {
   "cell_type": "code",
   "execution_count": 13,
   "metadata": {},
   "outputs": [
    {
     "data": {
      "text/plain": [
       "(1064260, 1)"
      ]
     },
     "execution_count": 13,
     "metadata": {},
     "output_type": "execute_result"
    }
   ],
   "source": [
    "ypred.shape"
   ]
  },
  {
   "cell_type": "code",
   "execution_count": null,
   "metadata": {},
   "outputs": [],
   "source": [
    "ypred = ypred.reshape(1064260, 1)"
   ]
  },
  {
   "cell_type": "code",
   "execution_count": null,
   "metadata": {},
   "outputs": [],
   "source": [
    "from sklearn.metrics import classification_report,confusion_matrix\n",
    "\n",
    "print(classification_report(ytest,ypred))\n",
    "print(confusion_matrix(ytest,ypred))"
   ]
  },
  {
   "cell_type": "code",
   "execution_count": null,
   "metadata": {},
   "outputs": [],
   "source": [
    "# Evaluate the model\n",
    "loss, acc = model.evaluate(xtest, ytest, verbose=2)\n",
    "print(\"model, accuracy: {:5.2f}%\".format(100 * acc))"
   ]
  },
  {
   "cell_type": "code",
   "execution_count": 12,
   "metadata": {},
   "outputs": [
    {
     "data": {
      "text/plain": [
       "8.548263428280345"
      ]
     },
     "execution_count": 12,
     "metadata": {},
     "output_type": "execute_result"
    }
   ],
   "source": [
    "mean_absolute_error(ytest, ypred)"
   ]
  },
  {
   "cell_type": "code",
   "execution_count": null,
   "metadata": {},
   "outputs": [],
   "source": [
    "\n",
    "\n",
    "\n",
    "import matplotlib.pyplot as plt\n",
    "\n",
    "\n",
    "plt.plot(xtrain,ytrain, color ='r',label = 'Trained data')\n",
    "\n",
    "plt.ylabel('Y axis')\n",
    "plt.xlabel('X axis')\n",
    "plt.legend()\n",
    "\n",
    "plt.show()\n",
    "\n",
    "\n",
    "plt.plot(xtest,ytest, color ='r',label = 'Test data')\n",
    "\n",
    "\n",
    "plt.ylabel('Y axis')\n",
    "plt.xlabel('X axis')\n",
    "plt.legend()\n",
    "\n",
    "plt.show()\n",
    "\n",
    "\n",
    "\n",
    "plt.plot(xtest,ypred, color ='g',label = 'Predicted data')\n",
    "\n",
    "\n",
    "plt.ylabel('Y axis')\n",
    "plt.xlabel('X axis')\n",
    "plt.legend()\n",
    "\n",
    "plt.show()\n",
    "\n"
   ]
  },
  {
   "cell_type": "code",
   "execution_count": 17,
   "metadata": {},
   "outputs": [
    {
     "name": "stdout",
     "output_type": "stream",
     "text": [
      "8.557379722595215\n",
      "8.557379722595215\n"
     ]
    },
    {
     "data": {
      "image/png": "[encoded data removed]",
      "text/plain": [
       "<Figure size 432x288 with 1 Axes>"
      ]
     },
     "metadata": {
      "needs_background": "light"
     },
     "output_type": "display_data"
    },
    {
     "data": {
      "image/png": "[encoded data removed]",
      "text/plain": [
       "<Figure size 432x288 with 1 Axes>"
      ]
     },
     "metadata": {
      "needs_background": "light"
     },
     "output_type": "display_data"
    }
   ],
   "source": [
    "\n",
    "history_df = pd.DataFrame(history.history)\n",
    "history_df.loc[5:, ['loss', 'val_loss']].plot()\n",
    "history_df.loc[5:, ['mae', 'val_mae']].plot()\n",
    "\n",
    "print(history_df['val_loss'].min())\n",
    "print(history_df['val_mae'].min())"
   ]
  },
  {
   "cell_type": "code",
   "execution_count": null,
   "metadata": {},
   "outputs": [],
   "source": [
    "#convert a word to single char cell\n",
    "\n",
    "def writeRow(char, enc, wlen):\n",
    "     with open(\"word_split_encoded.tsv\", 'a') as decodeMsgWritter:\n",
    "        decodeMsgWritter.write(\"\\n{0}\\t{1}\\t{2}\".format(char,enc,wlen))\n",
    "\n",
    "\n",
    "def convertDatato_chars_encryption(x):\n",
    "    row_x = x.words; row_y = x.output;\n",
    "    row_x = list(row_x.lower())\n",
    "    for each in range(16,len(row_y)+16,16):\n",
    "        if each-16 == 0:\n",
    "            writeRow(row_x[int(each/16)-1],row_y[each-16:each], len(row_x) )            \n",
    "        else:\n",
    "            writeRow(row_x[int(each/16)-1],row_y[each-16:each], 0 )\n",
    "\n",
    "    \n",
    "    \n",
    "    \n",
    "data = pd.read_csv(\"title_simple_encoded.tsv\", sep=\"\\t\")\n",
    "data.columns=[\"words\",\"output\"]\n",
    "data = data.dropna()\n",
    "\n",
    "\n",
    "data.apply(convertDatato_chars_encryption, axis = 1)\n",
    "print('completed')"
   ]
  },
  {
   "cell_type": "code",
   "execution_count": 8,
   "metadata": {},
   "outputs": [
    {
     "data": {
      "text/html": [
       "<div>\n",
       "<style scoped>\n",
       "    .dataframe tbody tr th:only-of-type {\n",
       "        vertical-align: middle;\n",
       "    }\n",
       "\n",
       "    .dataframe tbody tr th {\n",
       "        vertical-align: top;\n",
       "    }\n",
       "\n",
       "    .dataframe thead th {\n",
       "        text-align: right;\n",
       "    }\n",
       "</style>\n",
       "<table border=\"1\" class=\"dataframe\">\n",
       "  <thead>\n",
       "    <tr style=\"text-align: right;\">\n",
       "      <th></th>\n",
       "      <th>output</th>\n",
       "      <th>wordlen</th>\n",
       "      <th>char_0</th>\n",
       "      <th>char_1</th>\n",
       "      <th>char_2</th>\n",
       "      <th>char_3</th>\n",
       "      <th>char_4</th>\n",
       "      <th>char_5</th>\n",
       "      <th>char_6</th>\n",
       "      <th>char_7</th>\n",
       "      <th>...</th>\n",
       "      <th>char_q</th>\n",
       "      <th>char_r</th>\n",
       "      <th>char_s</th>\n",
       "      <th>char_t</th>\n",
       "      <th>char_u</th>\n",
       "      <th>char_v</th>\n",
       "      <th>char_w</th>\n",
       "      <th>char_x</th>\n",
       "      <th>char_y</th>\n",
       "      <th>char_z</th>\n",
       "    </tr>\n",
       "  </thead>\n",
       "  <tbody>\n",
       "    <tr>\n",
       "      <th>0</th>\n",
       "      <td>1000000101050001</td>\n",
       "      <td>6</td>\n",
       "      <td>0</td>\n",
       "      <td>0</td>\n",
       "      <td>0</td>\n",
       "      <td>0</td>\n",
       "      <td>0</td>\n",
       "      <td>0</td>\n",
       "      <td>0</td>\n",
       "      <td>0</td>\n",
       "      <td>...</td>\n",
       "      <td>0</td>\n",
       "      <td>0</td>\n",
       "      <td>1</td>\n",
       "      <td>0</td>\n",
       "      <td>0</td>\n",
       "      <td>0</td>\n",
       "      <td>0</td>\n",
       "      <td>0</td>\n",
       "      <td>0</td>\n",
       "      <td>0</td>\n",
       "    </tr>\n",
       "  </tbody>\n",
       "</table>\n",
       "<p>1 rows × 38 columns</p>\n",
       "</div>"
      ],
      "text/plain": [
       "             output  wordlen  char_0  char_1  char_2  char_3  char_4  char_5  \\\n",
       "0  1000000101050001        6       0       0       0       0       0       0   \n",
       "\n",
       "   char_6  char_7  ...  char_q  char_r  char_s  char_t  char_u  char_v  \\\n",
       "0       0       0  ...       0       0       1       0       0       0   \n",
       "\n",
       "   char_w  char_x  char_y  char_z  \n",
       "0       0       0       0       0  \n",
       "\n",
       "[1 rows x 38 columns]"
      ]
     },
     "execution_count": 8,
     "metadata": {},
     "output_type": "execute_result"
    }
   ],
   "source": [
    "\n",
    "import pandas as pd\n",
    "\n",
    "data = pd.read_csv(\"word_splits_ohe.tsv\", sep=\"\\t\")\n",
    "data.head(1)\n"
   ]
  },
  {
   "cell_type": "code",
   "execution_count": null,
   "metadata": {},
   "outputs": [],
   "source": [
    "#one hot encoder \n",
    "\n",
    "\n",
    "from sklearn.preprocessing import OneHotEncoder as ohe\n",
    "\n",
    "\n",
    "ohei = ohe(handle_unknown='ignore', sparse=False)\n",
    "\n",
    "reshaped_char_data = data.loc[:,[\"char\"]].values.reshape(-1, 1)\n",
    "\n",
    "transformData = pd.DataFrame(ohei.fit_transform(reshaped_char_data))\n",
    "\n",
    "\n",
    "# transformData.index = data.index\n",
    "\n",
    "transformData.head(20)\n",
    "\n",
    "\n",
    "\n"
   ]
  },
  {
   "cell_type": "code",
   "execution_count": null,
   "metadata": {},
   "outputs": [],
   "source": [
    "pd.get_dummies(df['country'], prefix='country')\n",
    "\n",
    "transformData.describe()"
   ]
  },
  {
   "cell_type": "code",
   "execution_count": null,
   "metadata": {},
   "outputs": [],
   "source": [
    "\n",
    "\n",
    "# pd.get_dummies(data[\"char\"], prefix='char')\n",
    "\n",
    "\n",
    "data = pd.concat([data ,pd.get_dummies(data['char'], prefix='char')],axis=1)\n",
    "data.drop(['char'], axis=1, inplace=True)"
   ]
  },
  {
   "cell_type": "code",
   "execution_count": null,
   "metadata": {},
   "outputs": [],
   "source": [
    "data.to_csv(\"word_splits_ohe.tsv\", sep=\"\\t\", index=False)"
   ]
  },
  {
   "cell_type": "code",
   "execution_count": null,
   "metadata": {},
   "outputs": [],
   "source": [
    "\n",
    "\n",
    "data.dtypes\n",
    "\n"
   ]
  },
  {
   "cell_type": "code",
   "execution_count": null,
   "metadata": {},
   "outputs": [],
   "source": [
    "!pip install sklearn"
   ]
  },
  {
   "cell_type": "code",
   "execution_count": null,
   "metadata": {},
   "outputs": [],
   "source": [
    "from sklearn.preprocessing import "
   ]
  }
 ],
 "metadata": {
  "kernelspec": {
   "display_name": "conda_mxnet_latest_p37",
   "language": "python",
   "name": "conda_mxnet_latest_p37"
  },
  "language_info": {
   "codemirror_mode": {
    "name": "ipython",
    "version": 3
   },
   "file_extension": ".py",
   "mimetype": "text/x-python",
   "name": "python",
   "nbconvert_exporter": "python",
   "pygments_lexer": "ipython3",
   "version": "3.7.6"
  }
 },
 "nbformat": 4,
 "nbformat_minor": 4
}
