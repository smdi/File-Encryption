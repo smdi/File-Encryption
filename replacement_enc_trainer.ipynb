{
 "cells": [
  {
   "cell_type": "code",
   "execution_count": null,
   "metadata": {},
   "outputs": [],
   "source": [
    "!pip install tensorflow"
   ]
  },
  {
   "cell_type": "code",
   "execution_count": 1,
   "metadata": {},
   "outputs": [],
   "source": [
    "\n",
    "from tensorflow import keras\n",
    "from tensorflow.keras import layers, models, callbacks\n",
    "\n",
    "\n",
    "\n",
    "from sklearn.model_selection import train_test_split\n",
    "import pandas as pd\n",
    "from sklearn.feature_extraction.text import CountVectorizer\n",
    "from sklearn.feature_extraction.text import TfidfTransformer\n",
    "from sklearn.metrics import mean_absolute_error\n",
    "\n",
    "from tensorflow.keras.callbacks import EarlyStopping"
   ]
  },
  {
   "cell_type": "code",
   "execution_count": 2,
   "metadata": {},
   "outputs": [],
   "source": [
    "def string_number(x):\n",
    "    x = x.lower()\n",
    "    new = \"\"\n",
    "    for each in x :\n",
    "        new = new + str( ord(each) )\n",
    "    return new\n",
    "\n",
    "\n",
    "def char_number(x):    \n",
    "    return str( ord(x)  )\n",
    "\n",
    "\n",
    "\n",
    "def getConvertedFormatofText(x):\n",
    "\n",
    "    count_vect = CountVectorizer()\n",
    "    X_train_counts = count_vect.fit_transform(x.values.astype('U'))\n",
    "    tfidf_transformer = TfidfTransformer()\n",
    "    X_train_tfidf = tfidf_transformer.fit_transform(X_train_counts)\n",
    "\n",
    "    return tfidf_transformer\n",
    "\n",
    "\n",
    "def getValidationData(xtest, ytest):\n",
    "    xtest, xvalid, ytest, yvalid = train_test_split(xtest, ytest, test_size=0.50, random_state=42)\n",
    "    return xtest, xvalid, ytest, yvalid\n",
    "\n",
    "\n",
    "def getWordSplitData():\n",
    "    data = pd.read_csv(\"word_split_replacement_encoded.tsv\", sep=\"\\t\")\n",
    "    data.columns = [\"words\", \"output\", \"wordlen\"]\n",
    "    #     data = data.dropna()    \n",
    "    x = data.words.map(char_number)\n",
    "    x = x.values.astype('int32')\n",
    "    y = data.output\n",
    "    y = y.values.astype('int64')\n",
    "    return y, x\n",
    "\n",
    "\n",
    "def getWordSplitOHEData():\n",
    "    data = pd.read_csv(\"word_splits_ohe.tsv\", sep=\"\\t\")\n",
    "#     data = data.dropna()\n",
    "    l = [x for x in range(2, data.shape[1])]\n",
    "    x = data.iloc[:,l]\n",
    "    x = x.values.astype('int16')\n",
    "    y = data.output\n",
    "    y = y.values.astype('int64')\n",
    "    return x, y\n",
    "\n",
    "\n",
    "def getTrainTestData():        \n",
    "    x, y = getWordSplitData()\n",
    "    xtrain, xtest, ytrain, ytest = train_test_split(x, y, test_size = 0.40, random_state = 0)\n",
    "    xtest, xvalid, ytest, yvalid = getValidationData(xtest, ytest)\n",
    "    return  xtrain, xtest, xvalid, ytrain, ytest, yvalid\n"
   ]
  },
  {
   "cell_type": "code",
   "execution_count": 5,
   "metadata": {},
   "outputs": [],
   "source": [
    "\n",
    "def getTheNetwork(num=6):\n",
    "    i = 0\n",
    "    list_dense = []    \n",
    "    list_dense.append(layers.Dense(units= 350 * (num) , activation='relu', input_dim=1))\n",
    "#     list_dense.append(layers.Dropout(0.3))\n",
    "    for x in range(2,num):\n",
    "        i = i+1\n",
    "        list_dense.append(layers.Dense(units= 350 * ((num)-i), activation='relu' ))        \n",
    "#         list_dense.append(layers.Dropout(0.3))\n",
    "        \n",
    "    \n",
    "    list_dense.append(layers.Dense(units= 350, activation='relu' ))\n",
    "    list_dense.append(layers.Dense(units=1))\n",
    "\n",
    "    return  list_dense"
   ]
  },
  {
   "cell_type": "code",
   "execution_count": 6,
   "metadata": {},
   "outputs": [],
   "source": [
    "model = keras.Sequential(getTheNetwork(6))"
   ]
  },
  {
   "cell_type": "code",
   "execution_count": 7,
   "metadata": {},
   "outputs": [
    {
     "name": "stdout",
     "output_type": "stream",
     "text": [
      "Model: \"sequential\"\n",
      "_________________________________________________________________\n",
      "Layer (type)                 Output Shape              Param #   \n",
      "=================================================================\n",
      "dense (Dense)                (None, 2100)              4200      \n",
      "_________________________________________________________________\n",
      "dense_1 (Dense)              (None, 1750)              3676750   \n",
      "_________________________________________________________________\n",
      "dense_2 (Dense)              (None, 1400)              2451400   \n",
      "_________________________________________________________________\n",
      "dense_3 (Dense)              (None, 1050)              1471050   \n",
      "_________________________________________________________________\n",
      "dense_4 (Dense)              (None, 700)               735700    \n",
      "_________________________________________________________________\n",
      "dense_5 (Dense)              (None, 350)               245350    \n",
      "_________________________________________________________________\n",
      "dense_6 (Dense)              (None, 1)                 351       \n",
      "=================================================================\n",
      "Total params: 8,584,801\n",
      "Trainable params: 8,584,801\n",
      "Non-trainable params: 0\n",
      "_________________________________________________________________\n"
     ]
    }
   ],
   "source": [
    "\n",
    "\n",
    "model.compile(optimizer='adam', loss = 'huber', metrics=['mse', 'mae', 'mape'])\n",
    "\n",
    "\n",
    "early_stopping = EarlyStopping(\n",
    "    min_delta=0.01,\n",
    "    patience=40,\n",
    "    restore_best_weights=True\n",
    ")\n",
    "\n",
    "model.summary()"
   ]
  },
  {
   "cell_type": "code",
   "execution_count": 4,
   "metadata": {},
   "outputs": [],
   "source": [
    "xtrain, xtest, xvalid, ytrain, ytest, yvalid = getTrainTestData()"
   ]
  },
  {
   "cell_type": "code",
   "execution_count": 9,
   "metadata": {},
   "outputs": [],
   "source": [
    "export_path_keras = \"replacement_file_hacker_350.h5\"\n",
    "save_checkpoint = keras.callbacks.ModelCheckpoint(\n",
    "    export_path_keras, monitor='loss', verbose=1, save_best_only=True,\n",
    "    save_weights_only=False, mode='min', save_freq='epoch'\n",
    ")"
   ]
  },
  {
   "cell_type": "code",
   "execution_count": 10,
   "metadata": {},
   "outputs": [],
   "source": [
    "early_stopping = EarlyStopping(\n",
    "    min_delta=0.01,\n",
    "    patience=40,\n",
    "    restore_best_weights=True\n",
    ")"
   ]
  },
  {
   "cell_type": "code",
   "execution_count": null,
   "metadata": {
    "scrolled": true
   },
   "outputs": [],
   "source": [
    "\n",
    "history = model.fit(\n",
    "    xtrain, ytrain,\n",
    "    validation_data=(xvalid, yvalid),\n",
    "    batch_size=100,\n",
    "    epochs=20,\n",
    "    callbacks=[early_stopping, save_checkpoint],\n",
    "    verbose=1\n",
    ")\n"
   ]
  },
  {
   "cell_type": "code",
   "execution_count": 3,
   "metadata": {},
   "outputs": [
    {
     "name": "stdout",
     "output_type": "stream",
     "text": [
      "Model: \"sequential\"\n",
      "_________________________________________________________________\n",
      "Layer (type)                 Output Shape              Param #   \n",
      "=================================================================\n",
      "dense (Dense)                (None, 2100)              4200      \n",
      "_________________________________________________________________\n",
      "dense_1 (Dense)              (None, 1750)              3676750   \n",
      "_________________________________________________________________\n",
      "dense_2 (Dense)              (None, 1400)              2451400   \n",
      "_________________________________________________________________\n",
      "dense_3 (Dense)              (None, 1050)              1471050   \n",
      "_________________________________________________________________\n",
      "dense_4 (Dense)              (None, 700)               735700    \n",
      "_________________________________________________________________\n",
      "dense_5 (Dense)              (None, 350)               245350    \n",
      "_________________________________________________________________\n",
      "dense_6 (Dense)              (None, 1)                 351       \n",
      "=================================================================\n",
      "Total params: 8,584,801\n",
      "Trainable params: 8,584,801\n",
      "Non-trainable params: 0\n",
      "_________________________________________________________________\n"
     ]
    }
   ],
   "source": [
    "model = models.load_model('replacement_file_hacker_350.h5')\n",
    "model.summary()"
   ]
  },
  {
   "cell_type": "code",
   "execution_count": 12,
   "metadata": {},
   "outputs": [
    {
     "name": "stdout",
     "output_type": "stream",
     "text": [
      "1.1696453647203002\n",
      "1.282789699781765\n"
     ]
    },
    {
     "data": {
      "text/plain": [
       "(None, None)"
      ]
     },
     "execution_count": 12,
     "metadata": {},
     "output_type": "execute_result"
    }
   ],
   "source": [
    "ypred = model.predict(xtest)\n",
    "\n",
    "s1 = pd.Series(ypred.flatten())\n",
    "ypred1 = s1.map(floor)\n",
    "\n",
    "print(mean_absolute_error(ytest, ypred1)) \n",
    "print(mean_absolute_error(ytest, ypred))"
   ]
  },
  {
   "cell_type": "code",
   "execution_count": 13,
   "metadata": {},
   "outputs": [
    {
     "name": "stdout",
     "output_type": "stream",
     "text": [
      "1.1696453647203002\n",
      "1.282789699781765\n"
     ]
    }
   ],
   "source": [
    "print(mean_absolute_error(ytest, ypred1)) \n",
    "print(mean_absolute_error(ytest, ypred))"
   ]
  },
  {
   "cell_type": "code",
   "execution_count": 17,
   "metadata": {},
   "outputs": [
    {
     "data": {
      "text/plain": [
       "0         0\n",
       "1         1\n",
       "2         0\n",
       "3         0\n",
       "4         0\n",
       "         ..\n",
       "626667    0\n",
       "626668    0\n",
       "626669    0\n",
       "626670    0\n",
       "626671    0\n",
       "Length: 626672, dtype: int64"
      ]
     },
     "execution_count": 17,
     "metadata": {},
     "output_type": "execute_result"
    }
   ],
   "source": [
    "ytest - ypred1"
   ]
  },
  {
   "cell_type": "code",
   "execution_count": 19,
   "metadata": {},
   "outputs": [
    {
     "data": {
      "text/plain": [
       "array([-0.93352509,  0.0932312 , -0.15602112, ..., -0.93352509,\n",
       "       -0.23227692, -0.35005188])"
      ]
     },
     "execution_count": 19,
     "metadata": {},
     "output_type": "execute_result"
    }
   ],
   "source": [
    "ytest - ypred.flatten()"
   ]
  },
  {
   "cell_type": "code",
   "execution_count": 6,
   "metadata": {},
   "outputs": [
    {
     "data": {
      "text/plain": [
       "(array([3240, 2130, 3333, 1111, 4110]),\n",
       " array([ 99, 110,  50,  48, 112], dtype=int32))"
      ]
     },
     "execution_count": 6,
     "metadata": {},
     "output_type": "execute_result"
    }
   ],
   "source": [
    "xtrain[0+5:5+5], ytrain[0+5:5+5]"
   ]
  },
  {
   "cell_type": "code",
   "execution_count": 23,
   "metadata": {},
   "outputs": [],
   "source": [
    "def num_char(x):    \n",
    "    return str( chr(x)  )"
   ]
  },
  {
   "cell_type": "code",
   "execution_count": 29,
   "metadata": {},
   "outputs": [
    {
     "name": "stdout",
     "output_type": "stream",
     "text": [
      "[[115.19685 ]\n",
      " [101.933525]\n",
      " [ 97.02582 ]\n",
      " [114.19497 ]\n",
      " [ 99.24246 ]\n",
      " [107.3463  ]]\n",
      "0    115\n",
      "1    101\n",
      "2     97\n",
      "3    114\n",
      "4     99\n",
      "5    107\n",
      "dtype: int64\n"
     ]
    },
    {
     "data": {
      "text/plain": [
       "0    s\n",
       "1    e\n",
       "2    a\n",
       "3    r\n",
       "4    c\n",
       "5    k\n",
       "dtype: object"
      ]
     },
     "execution_count": 29,
     "metadata": {},
     "output_type": "execute_result"
    }
   ],
   "source": [
    "from math import ceil, floor\n",
    "\n",
    "\n",
    "ypred = model.predict([[1980],[5220],[1260],[1890],[3240],[8190]])\n",
    "\n",
    "s1 = pd.Series(ypred.flatten())\n",
    "print(ypred)\n",
    "s1 = s1.map(floor)\n",
    "print(s1)\n",
    "s1 = s1.map(num_char)\n",
    "s1"
   ]
  },
  {
   "cell_type": "code",
   "execution_count": null,
   "metadata": {},
   "outputs": [],
   "source": [
    "\n",
    "history_df = pd.DataFrame(history.history)\n",
    "history_df.loc[5:, ['loss', 'val_loss']].plot()\n",
    "history_df.loc[5:, ['mae', 'val_mae']].plot()\n",
    "\n",
    "print(history_df['val_loss'].min())\n",
    "print(history_df['val_mae'].min())"
   ]
  },
  {
   "cell_type": "code",
   "execution_count": 3,
   "metadata": {},
   "outputs": [
    {
     "name": "stdout",
     "output_type": "stream",
     "text": [
      "completed\n"
     ]
    }
   ],
   "source": [
    "#convert a word to single char cell\n",
    "\n",
    "def writeRow(char, enc, wlen):\n",
    "     with open(\"word_split_replacement_encoded.tsv\", 'a') as decodeMsgWritter:\n",
    "        decodeMsgWritter.write(\"\\n{0}\\t{1}\\t{2}\".format(char,enc,wlen))\n",
    "\n",
    "\n",
    "def convertDatato_chars_encryption(x):\n",
    "    row_x = x.words; row_y = x.output;\n",
    "#     row_x = list(row_x.lower())\n",
    "    for each in range(4,len(row_y)+4,4):\n",
    "        if each-4 == 0:\n",
    "            writeRow(row_x[int(each/4)-1],row_y[each-4:each], len(row_x) )            \n",
    "        else:\n",
    "            writeRow(row_x[int(each/4)-1],row_y[each-4:each], 0 )\n",
    "\n",
    "    \n",
    "    \n",
    "    \n",
    "data = pd.read_csv(\"title_encoded.tsv\", sep=\"\\t\")\n",
    "data.columns=[\"words\",\"output\"]\n",
    "data = data.dropna()\n",
    "\n",
    "\n",
    "data.apply(convertDatato_chars_encryption, axis = 1)\n",
    "print('completed')"
   ]
  },
  {
   "cell_type": "code",
   "execution_count": 17,
   "metadata": {},
   "outputs": [],
   "source": [
    "data = pd.read_csv(\"word_split_replacement_encoded.tsv\", sep=\"\\t\")\n",
    "data.columns=[\"words\",\"output\", \"wordlen\"]\n",
    "\n",
    "data = pd.concat([data ,pd.get_dummies(data['words'], prefix='char')],axis=1)\n",
    "data.drop(['words'], axis=1, inplace=True)"
   ]
  },
  {
   "cell_type": "code",
   "execution_count": 18,
   "metadata": {},
   "outputs": [
    {
     "data": {
      "text/html": [
       "<div>\n",
       "<style scoped>\n",
       "    .dataframe tbody tr th:only-of-type {\n",
       "        vertical-align: middle;\n",
       "    }\n",
       "\n",
       "    .dataframe tbody tr th {\n",
       "        vertical-align: top;\n",
       "    }\n",
       "\n",
       "    .dataframe thead th {\n",
       "        text-align: right;\n",
       "    }\n",
       "</style>\n",
       "<table border=\"1\" class=\"dataframe\">\n",
       "  <thead>\n",
       "    <tr style=\"text-align: right;\">\n",
       "      <th></th>\n",
       "      <th>output</th>\n",
       "      <th>wordlen</th>\n",
       "      <th>char_0</th>\n",
       "      <th>char_1</th>\n",
       "      <th>char_2</th>\n",
       "      <th>char_3</th>\n",
       "      <th>char_4</th>\n",
       "      <th>char_5</th>\n",
       "      <th>char_6</th>\n",
       "      <th>char_7</th>\n",
       "      <th>...</th>\n",
       "      <th>char_q</th>\n",
       "      <th>char_r</th>\n",
       "      <th>char_s</th>\n",
       "      <th>char_t</th>\n",
       "      <th>char_u</th>\n",
       "      <th>char_v</th>\n",
       "      <th>char_w</th>\n",
       "      <th>char_x</th>\n",
       "      <th>char_y</th>\n",
       "      <th>char_z</th>\n",
       "    </tr>\n",
       "  </thead>\n",
       "  <tbody>\n",
       "    <tr>\n",
       "      <th>0</th>\n",
       "      <td>5220</td>\n",
       "      <td>0</td>\n",
       "      <td>0</td>\n",
       "      <td>0</td>\n",
       "      <td>0</td>\n",
       "      <td>0</td>\n",
       "      <td>0</td>\n",
       "      <td>0</td>\n",
       "      <td>0</td>\n",
       "      <td>0</td>\n",
       "      <td>...</td>\n",
       "      <td>0</td>\n",
       "      <td>0</td>\n",
       "      <td>0</td>\n",
       "      <td>0</td>\n",
       "      <td>0</td>\n",
       "      <td>0</td>\n",
       "      <td>0</td>\n",
       "      <td>0</td>\n",
       "      <td>0</td>\n",
       "      <td>0</td>\n",
       "    </tr>\n",
       "    <tr>\n",
       "      <th>1</th>\n",
       "      <td>2430</td>\n",
       "      <td>0</td>\n",
       "      <td>0</td>\n",
       "      <td>0</td>\n",
       "      <td>0</td>\n",
       "      <td>0</td>\n",
       "      <td>0</td>\n",
       "      <td>0</td>\n",
       "      <td>0</td>\n",
       "      <td>0</td>\n",
       "      <td>...</td>\n",
       "      <td>0</td>\n",
       "      <td>0</td>\n",
       "      <td>0</td>\n",
       "      <td>0</td>\n",
       "      <td>0</td>\n",
       "      <td>0</td>\n",
       "      <td>0</td>\n",
       "      <td>1</td>\n",
       "      <td>0</td>\n",
       "      <td>0</td>\n",
       "    </tr>\n",
       "    <tr>\n",
       "      <th>2</th>\n",
       "      <td>2070</td>\n",
       "      <td>0</td>\n",
       "      <td>0</td>\n",
       "      <td>0</td>\n",
       "      <td>0</td>\n",
       "      <td>0</td>\n",
       "      <td>0</td>\n",
       "      <td>0</td>\n",
       "      <td>0</td>\n",
       "      <td>0</td>\n",
       "      <td>...</td>\n",
       "      <td>0</td>\n",
       "      <td>0</td>\n",
       "      <td>0</td>\n",
       "      <td>1</td>\n",
       "      <td>0</td>\n",
       "      <td>0</td>\n",
       "      <td>0</td>\n",
       "      <td>0</td>\n",
       "      <td>0</td>\n",
       "      <td>0</td>\n",
       "    </tr>\n",
       "    <tr>\n",
       "      <th>3</th>\n",
       "      <td>5120</td>\n",
       "      <td>0</td>\n",
       "      <td>0</td>\n",
       "      <td>0</td>\n",
       "      <td>0</td>\n",
       "      <td>0</td>\n",
       "      <td>0</td>\n",
       "      <td>0</td>\n",
       "      <td>0</td>\n",
       "      <td>0</td>\n",
       "      <td>...</td>\n",
       "      <td>0</td>\n",
       "      <td>0</td>\n",
       "      <td>0</td>\n",
       "      <td>0</td>\n",
       "      <td>0</td>\n",
       "      <td>0</td>\n",
       "      <td>0</td>\n",
       "      <td>0</td>\n",
       "      <td>0</td>\n",
       "      <td>0</td>\n",
       "    </tr>\n",
       "    <tr>\n",
       "      <th>4</th>\n",
       "      <td>2520</td>\n",
       "      <td>0</td>\n",
       "      <td>0</td>\n",
       "      <td>0</td>\n",
       "      <td>0</td>\n",
       "      <td>0</td>\n",
       "      <td>0</td>\n",
       "      <td>0</td>\n",
       "      <td>0</td>\n",
       "      <td>0</td>\n",
       "      <td>...</td>\n",
       "      <td>0</td>\n",
       "      <td>0</td>\n",
       "      <td>0</td>\n",
       "      <td>0</td>\n",
       "      <td>0</td>\n",
       "      <td>0</td>\n",
       "      <td>0</td>\n",
       "      <td>0</td>\n",
       "      <td>1</td>\n",
       "      <td>0</td>\n",
       "    </tr>\n",
       "  </tbody>\n",
       "</table>\n",
       "<p>5 rows × 38 columns</p>\n",
       "</div>"
      ],
      "text/plain": [
       "   output  wordlen  char_0  char_1  char_2  char_3  char_4  char_5  char_6  \\\n",
       "0    5220        0       0       0       0       0       0       0       0   \n",
       "1    2430        0       0       0       0       0       0       0       0   \n",
       "2    2070        0       0       0       0       0       0       0       0   \n",
       "3    5120        0       0       0       0       0       0       0       0   \n",
       "4    2520        0       0       0       0       0       0       0       0   \n",
       "\n",
       "   char_7  ...  char_q  char_r  char_s  char_t  char_u  char_v  char_w  \\\n",
       "0       0  ...       0       0       0       0       0       0       0   \n",
       "1       0  ...       0       0       0       0       0       0       0   \n",
       "2       0  ...       0       0       0       1       0       0       0   \n",
       "3       0  ...       0       0       0       0       0       0       0   \n",
       "4       0  ...       0       0       0       0       0       0       0   \n",
       "\n",
       "   char_x  char_y  char_z  \n",
       "0       0       0       0  \n",
       "1       1       0       0  \n",
       "2       0       0       0  \n",
       "3       0       0       0  \n",
       "4       0       1       0  \n",
       "\n",
       "[5 rows x 38 columns]"
      ]
     },
     "execution_count": 18,
     "metadata": {},
     "output_type": "execute_result"
    }
   ],
   "source": [
    "data.head()"
   ]
  },
  {
   "cell_type": "code",
   "execution_count": 19,
   "metadata": {},
   "outputs": [],
   "source": [
    "data.to_csv(\"word_splits_ohe.tsv\", sep=\"\\t\", index=False)"
   ]
  }
 ],
 "metadata": {
  "kernelspec": {
   "display_name": "conda_mxnet_latest_p37",
   "language": "python",
   "name": "conda_mxnet_latest_p37"
  },
  "language_info": {
   "codemirror_mode": {
    "name": "ipython",
    "version": 3
   },
   "file_extension": ".py",
   "mimetype": "text/x-python",
   "name": "python",
   "nbconvert_exporter": "python",
   "pygments_lexer": "ipython3",
   "version": "3.7.6"
  }
 },
 "nbformat": 4,
 "nbformat_minor": 4
}
